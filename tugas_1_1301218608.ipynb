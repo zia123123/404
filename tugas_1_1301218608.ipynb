{
  "nbformat": 4,
  "nbformat_minor": 0,
  "metadata": {
    "colab": {
      "provenance": [],
      "include_colab_link": true
    },
    "kernelspec": {
      "name": "python3",
      "display_name": "Python 3"
    },
    "language_info": {
      "name": "python"
    }
  },
  "cells": [
    {
      "cell_type": "markdown",
      "metadata": {
        "id": "view-in-github",
        "colab_type": "text"
      },
      "source": [
        "<a href=\"https://colab.research.google.com/github/zia123123/404/blob/main/tugas_1_1301218608.ipynb\" target=\"_parent\"><img src=\"https://colab.research.google.com/assets/colab-badge.svg\" alt=\"Open In Colab\"/></a>"
      ]
    },
    {
      "cell_type": "code",
      "execution_count": 1,
      "metadata": {
        "id": "YkaA9ixinQyd"
      },
      "outputs": [],
      "source": [
        "import pickle\n",
        "import numpy as np\n",
        "import matplotlib.pyplot as plt\n",
        "%matplotlib inline\n",
        "\n",
        "from cvxopt import matrix, solvers"
      ]
    },
    {
      "cell_type": "code",
      "source": [
        "COLORS = ['red', 'blue']\n",
        "\n",
        "x_train = np.array([[0.20, 0.20], [-0.10, 0.50], [0.30, 0.20],\n",
        "                   [0.10, 0.50], [0.30, 0.10], [0.00, 0.30],\n",
        "                   [0.40, 0.50], [-0.30, -0.30], [0.10, -0.40],\n",
        "                   [-0.10, -0.30], [0.00, -0.50], [-0.30, -0.10],\n",
        "                   [-0.50, -0.40], [-0.40, -0.20]])\n",
        "\n",
        "y_train = np.array([1., 1., 1., 1., 1., 1., 1., -1., -1., -1., -1., -1., -1., -1.])\n",
        "\n",
        "x_test = np.array([[-0.40, 0.40], [-0.50, 0.50], [-0.40, 0.50], [-0.30, 0.40],\n",
        "                  [0.50, 0.00], [0.40, 0.10], [0.50, 0.40], [0.10, 0.30],\n",
        "                  [0.20, 0.30], [-0.30, 0.50], [0.30, 0.40], [0.10, 0.20],\n",
        "                  [0.50, 0.20], [-0.10, 0.30], [0.00, 0.50], [0.50, -0.50],\n",
        "                  [0.50, -0.40], [-0.50, 0.10], [-0.10, -0.20], [0.00, -0.30],\n",
        "                  [0.30, -0.30], [-0.40, -0.10], [0.30, -0.40], [0.10, -0.30],\n",
        "                  [0.10, -0.50], [-0.20, -0.20], [-0.30, -0.20], [-0.50, -0.10],\n",
        "                  [-0.40, -0.40], [-0.50, -0.50], [-0.20, -0.50], [-0.20, -0.40]])\n",
        "\n",
        "y_test = [1., 1., 1., 1., 1., 1., 1., 1., 1., 1., 1., 1., 1., 1., 1., -1., -1., -1., \n",
        "                  -1., -1., -1., -1., -1., -1., -1., -1., -1., -1., -1., -1., -1., -1]\n",
        "\n",
        "n_train, D = x_train.shape\n",
        "n_test, _ = x_test.shape"
      ],
      "metadata": {
        "id": "demKCMyZnjyk"
      },
      "execution_count": 3,
      "outputs": []
    },
    {
      "cell_type": "code",
      "source": [
        "def scatter_plot(ax, x, y):\n",
        "  unique = np.unique(y)\n",
        "  for li in range(len(unique)):\n",
        "    x_s = x[y==unique[li]]\n",
        "    ax.set_xticks(np.arange(-1, 1, 0.1))\n",
        "    ax.set_yticks(np.arange(-1, 1., 0.1))\n",
        "    ax.scatter(x_s[:, 0], x_s[:, 1], c=COLORS[li])\n",
        "    ax.grid(b=True, which='both', color='k', linestyle='', linewidth=.1)"
      ],
      "metadata": {
        "id": "IOzmG4pUtige"
      },
      "execution_count": 6,
      "outputs": []
    },
    {
      "cell_type": "code",
      "source": [
        "fig, ax = plt.subplots()\n",
        "scatter_plot(ax, x_train, y_train)\n",
        "plt.show()"
      ],
      "metadata": {
        "colab": {
          "base_uri": "https://localhost:8080/",
          "height": 265
        },
        "id": "G0K64Vn6uFYG",
        "outputId": "de4598f2-1c5d-42bf-d629-2bbf024a8b37"
      },
      "execution_count": 7,
      "outputs": [
        {
          "output_type": "display_data",
          "data": {
            "text/plain": [
              "<Figure size 432x288 with 1 Axes>"
            ],
            "image/png": "[encoded data removed]"
          },
          "metadata": {
            "needs_background": "light"
          }
        }
      ]
    },
    {
      "cell_type": "code",
      "source": [
        "K = y_train[:, None]*x_train\n",
        "KKt = K.dot(K.T)\n",
        "P = matrix(KKt)\n",
        "q = matrix(-np.ones((n_train, 1)))\n",
        "G = matrix(-np.eye(n_train))\n",
        "h = matrix(np.zeros(n_train))\n",
        "A = matrix(y_train.reshape(1, -1))\n",
        "b = matrix(np.zeros(1))\n",
        "\n",
        "solvers.options['show_progress'] = True\n",
        "qp_solver = solvers.qp(P, q, G, h, A, b)\n",
        "\n",
        "alpha = np.array(qp_solver['x'])\n"
      ],
      "metadata": {
        "colab": {
          "base_uri": "https://localhost:8080/"
        },
        "id": "laotP4fRvo7l",
        "outputId": "1d8754b4-9afe-4cf3-cbe2-83783e7817fc"
      },
      "execution_count": 5,
      "outputs": [
        {
          "output_type": "stream",
          "name": "stdout",
          "text": [
            "     pcost       dcost       gap    pres   dres\n",
            " 0: -3.9566e+00 -9.9644e+00  2e+01  4e+00  2e+00\n",
            " 1: -5.3822e+00 -8.3614e+00  4e+00  4e-01  2e-01\n",
            " 2: -7.3460e+00 -8.2900e+00  1e+00  7e-02  3e-02\n",
            " 3: -7.9669e+00 -8.0139e+00  5e-02  5e-04  2e-04\n",
            " 4: -7.9986e+00 -8.0008e+00  2e-03  6e-06  2e-06\n",
            " 5: -7.9999e+00 -8.0001e+00  2e-04  2e-09  8e-10\n",
            " 6: -8.0000e+00 -8.0000e+00  3e-05  2e-15  3e-16\n",
            " 7: -8.0000e+00 -8.0000e+00  4e-06  3e-15  3e-16\n",
            "Optimal solution found.\n"
          ]
        }
      ]
    },
    {
      "cell_type": "code",
      "source": [
        "print('alpha = ', np.round(alpha.T, 2))"
      ],
      "metadata": {
        "colab": {
          "base_uri": "https://localhost:8080/"
        },
        "id": "CtEytdhW9OVW",
        "outputId": "2b527a7a-91dc-4e6c-b189-c42a9ca7efb5"
      },
      "execution_count": null,
      "outputs": [
        {
          "output_type": "stream",
          "name": "stdout",
          "text": [
            "alpha =  [[0. 0. 0. 0. 0. 8. 0. 0. 0. 0. 0. 8. 0. 0.]]\n"
          ]
        }
      ]
    },
    {
      "cell_type": "code",
      "source": [
        "w = np.sum(alpha*y_train[:, None] * x_train, axis=0)\n",
        "print('w = ', w)"
      ],
      "metadata": {
        "colab": {
          "base_uri": "https://localhost:8080/"
        },
        "id": "gWHqx1Ce9XUO",
        "outputId": "5328100b-9874-4d98-e370-91b30491bbdb"
      },
      "execution_count": null,
      "outputs": [
        {
          "output_type": "stream",
          "name": "stdout",
          "text": [
            "w =  [2.39852179 3.20110867]\n"
          ]
        }
      ]
    },
    {
      "cell_type": "code",
      "source": [
        "th = (alpha > 1e-4).reshape(-1)\n",
        "print(th)\n",
        "\n",
        "b = y_train[th]-x_train[th].dot(w)\n",
        "bias = b[0]\n",
        "print('bias = ', bias)"
      ],
      "metadata": {
        "colab": {
          "base_uri": "https://localhost:8080/"
        },
        "id": "vrd6rqjp9iKu",
        "outputId": "38dc548f-1db8-4d18-a0d5-9af38cc16ff4"
      },
      "execution_count": null,
      "outputs": [
        {
          "output_type": "stream",
          "name": "stdout",
          "text": [
            "[False False False False False  True False False  True False False  True\n",
            " False False]\n",
            "bias =  0.03966739921779361\n"
          ]
        }
      ]
    },
    {
      "cell_type": "code",
      "source": [
        "norm = np.linalg.norm(w)\n",
        "w, bias = w/norm, bias/norm\n",
        "fig, ax = plt.subplots()\n",
        "\n",
        "m = -w[0]/w[1]\n",
        "intercept = -bias/w[1]\n",
        "x2 = np.arange(-.5, 1)\n",
        "ax.plot(x2, x2*m + intercept, 'k-')\n",
        "scatter_plot(ax, x_train, y_train)"
      ],
      "metadata": {
        "colab": {
          "base_uri": "https://localhost:8080/",
          "height": 265
        },
        "id": "Ei5UQtSO9vP2",
        "outputId": "2387da4e-6cd7-4142-a55d-03f4a248dfd9"
      },
      "execution_count": null,
      "outputs": [
        {
          "output_type": "display_data",
          "data": {
            "text/plain": [
              "<Figure size 432x288 with 1 Axes>"
            ],
            "image/png": "[encoded data removed]"
          },
          "metadata": {
            "needs_background": "light"
          }
        }
      ]
    },
    {
      "cell_type": "code",
      "source": [
        "orm = np.linalg.norm(w)\n",
        "w, bias = w/norm, bias/norm\n",
        "fig, ax = plt.subplots()\n",
        "\n",
        "m = -w[0]/w[1]\n",
        "intercept = -bias/w[1]\n",
        "x2 = np.arange(-.5, 1)\n",
        "ax.plot(x2, x2*m + intercept, 'k-')\n",
        "scatter_plot(ax, x_test, y_test)\n"
      ],
      "metadata": {
        "colab": {
          "base_uri": "https://localhost:8080/",
          "height": 265
        },
        "id": "TtyBzcnH-Nye",
        "outputId": "b5a2baec-2ff5-4a7e-9e71-94ebab70791d"
      },
      "execution_count": null,
      "outputs": [
        {
          "output_type": "display_data",
          "data": {
            "text/plain": [
              "<Figure size 432x288 with 1 Axes>"
            ],
            "image/png": "[encoded data removed]"
          },
          "metadata": {
            "needs_background": "light"
          }
        }
      ]
    },
    {
      "cell_type": "code",
      "source": [
        "y_pred_train = (w.dot(x_train.T)+bias>0)*2-1\n",
        "y_pred_test = (w.dot(x_test.T)+bias>0)*2-1\n",
        "\n",
        "\n",
        "print('prediksi data train = ', y_pred_train)\n",
        "print('prediksi data test = ', y_pred_test)\n",
        "\n",
        "acc_train = np.sum(y_pred_train == y_train)/n_train*100\n",
        "print('akurasi training = ', acc_train, '%')\n",
        "\n",
        "acc_test = np.sum(y_pred_test == y_test)/n_test*100\n",
        "print('akurasi training = ', acc_test, '%')"
      ],
      "metadata": {
        "colab": {
          "base_uri": "https://localhost:8080/"
        },
        "id": "OJf-e4pGD4T3",
        "outputId": "72bca493-c653-4bdf-800d-e413e9b588ca"
      },
      "execution_count": null,
      "outputs": [
        {
          "output_type": "stream",
          "name": "stdout",
          "text": [
            "prediksi data train =  [ 1  1  1  1  1  1  1 -1 -1 -1 -1 -1 -1 -1]\n",
            "prediksi data test =  [ 1  1  1  1  1  1  1  1  1  1  1  1  1  1  1 -1 -1 -1 -1 -1 -1 -1 -1 -1\n",
            " -1 -1 -1 -1 -1 -1 -1 -1]\n",
            "akurasi training =  100.0 %\n",
            "akurasi training =  100.0 %\n"
          ]
        }
      ]
    },
    {
      "cell_type": "code",
      "source": [],
      "metadata": {
        "id": "JZTrEdqz4dXV"
      },
      "execution_count": null,
      "outputs": []
    }
  ]
}